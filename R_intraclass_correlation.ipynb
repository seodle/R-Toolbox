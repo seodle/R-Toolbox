{
 "cells": [
  {
   "cell_type": "markdown",
   "metadata": {},
   "source": [
    "# Compute intraclass correlation\n",
    "\n",
    "This script require R\n",
    "\n",
    "\n",
    "\n",
    "Requirements\n",
    "--\n",
    "\n",
    "You need the free software R  : go to [R download page](https://cran.r-project.org/)\n",
    "\n",
    "Your data file need to be in a dyadic structure : go to [this page](https://www.seodle.info/toolbox/python_indivdual_to_dyadic_structure.html) to see how restructure your table in python."
   ]
  },
  {
   "cell_type": "markdown",
   "metadata": {},
   "source": [
    "# Code\n"
   ]
  },
  {
   "cell_type": "markdown",
   "metadata": {},
   "source": [
    "### Read .CSV file\n"
   ]
  },
  {
   "cell_type": "code",
   "execution_count": 2,
   "metadata": {},
   "outputs": [
    {
     "data": {
      "text/html": [
       "<table>\n",
       "<thead><tr><th scope=col>Dyade</th><th scope=col>p1</th><th scope=col>p2</th></tr></thead>\n",
       "<tbody>\n",
       "\t<tr><td>1</td><td>8</td><td>6</td></tr>\n",
       "\t<tr><td>2</td><td>5</td><td>3</td></tr>\n",
       "\t<tr><td>3</td><td>7</td><td>2</td></tr>\n",
       "\t<tr><td>4</td><td>8</td><td>5</td></tr>\n",
       "\t<tr><td>5</td><td>8</td><td>7</td></tr>\n",
       "\t<tr><td>6</td><td>5</td><td>6</td></tr>\n",
       "</tbody>\n",
       "</table>\n"
      ],
      "text/latex": [
       "\\begin{tabular}{r|lll}\n",
       " Dyade & p1 & p2\\\\\n",
       "\\hline\n",
       "\t 1 & 8 & 6\\\\\n",
       "\t 2 & 5 & 3\\\\\n",
       "\t 3 & 7 & 2\\\\\n",
       "\t 4 & 8 & 5\\\\\n",
       "\t 5 & 8 & 7\\\\\n",
       "\t 6 & 5 & 6\\\\\n",
       "\\end{tabular}\n"
      ],
      "text/markdown": [
       "\n",
       "Dyade | p1 | p2 | \n",
       "|---|---|---|---|---|---|\n",
       "| 1 | 8 | 6 | \n",
       "| 2 | 5 | 3 | \n",
       "| 3 | 7 | 2 | \n",
       "| 4 | 8 | 5 | \n",
       "| 5 | 8 | 7 | \n",
       "| 6 | 5 | 6 | \n",
       "\n",
       "\n"
      ],
      "text/plain": [
       "  Dyade p1 p2\n",
       "1 1     8  6 \n",
       "2 2     5  3 \n",
       "3 3     7  2 \n",
       "4 4     8  5 \n",
       "5 5     8  7 \n",
       "6 6     5  6 "
      ]
     },
     "metadata": {},
     "output_type": "display_data"
    }
   ],
   "source": [
    "data <- read.csv(\"input.csv\", sep = \";\")\n",
    "head(data)"
   ]
  },
  {
   "cell_type": "markdown",
   "metadata": {},
   "source": [
    "### Create new column with mean scores of the two participants"
   ]
  },
  {
   "cell_type": "code",
   "execution_count": 3,
   "metadata": {
    "scrolled": true
   },
   "outputs": [
    {
     "data": {
      "text/html": [
       "<table>\n",
       "<thead><tr><th scope=col>Dyade</th><th scope=col>p1</th><th scope=col>p2</th><th scope=col>mean</th></tr></thead>\n",
       "<tbody>\n",
       "\t<tr><td>1  </td><td>8  </td><td>6  </td><td>7.0</td></tr>\n",
       "\t<tr><td>2  </td><td>5  </td><td>3  </td><td>4.0</td></tr>\n",
       "\t<tr><td>3  </td><td>7  </td><td>2  </td><td>4.5</td></tr>\n",
       "\t<tr><td>4  </td><td>8  </td><td>5  </td><td>6.5</td></tr>\n",
       "\t<tr><td>5  </td><td>8  </td><td>7  </td><td>7.5</td></tr>\n",
       "\t<tr><td>6  </td><td>5  </td><td>6  </td><td>5.5</td></tr>\n",
       "</tbody>\n",
       "</table>\n"
      ],
      "text/latex": [
       "\\begin{tabular}{r|llll}\n",
       " Dyade & p1 & p2 & mean\\\\\n",
       "\\hline\n",
       "\t 1   & 8   & 6   & 7.0\\\\\n",
       "\t 2   & 5   & 3   & 4.0\\\\\n",
       "\t 3   & 7   & 2   & 4.5\\\\\n",
       "\t 4   & 8   & 5   & 6.5\\\\\n",
       "\t 5   & 8   & 7   & 7.5\\\\\n",
       "\t 6   & 5   & 6   & 5.5\\\\\n",
       "\\end{tabular}\n"
      ],
      "text/markdown": [
       "\n",
       "Dyade | p1 | p2 | mean | \n",
       "|---|---|---|---|---|---|\n",
       "| 1   | 8   | 6   | 7.0 | \n",
       "| 2   | 5   | 3   | 4.0 | \n",
       "| 3   | 7   | 2   | 4.5 | \n",
       "| 4   | 8   | 5   | 6.5 | \n",
       "| 5   | 8   | 7   | 7.5 | \n",
       "| 6   | 5   | 6   | 5.5 | \n",
       "\n",
       "\n"
      ],
      "text/plain": [
       "  Dyade p1 p2 mean\n",
       "1 1     8  6  7.0 \n",
       "2 2     5  3  4.0 \n",
       "3 3     7  2  4.5 \n",
       "4 4     8  5  6.5 \n",
       "5 5     8  7  7.5 \n",
       "6 6     5  6  5.5 "
      ]
     },
     "metadata": {},
     "output_type": "display_data"
    }
   ],
   "source": [
    "data$mean <- (data$'p1'+data$'p2')/2\n",
    "head(data)"
   ]
  },
  {
   "cell_type": "markdown",
   "metadata": {},
   "source": [
    "### Create new column with distances between the two participants"
   ]
  },
  {
   "cell_type": "code",
   "execution_count": 4,
   "metadata": {},
   "outputs": [],
   "source": [
    "data$distance <- data$'p1'-data$'p2'"
   ]
  },
  {
   "cell_type": "code",
   "execution_count": 5,
   "metadata": {
    "scrolled": true
   },
   "outputs": [
    {
     "data": {
      "text/html": [
       "<table>\n",
       "<thead><tr><th scope=col>Dyade</th><th scope=col>p1</th><th scope=col>p2</th><th scope=col>mean</th><th scope=col>distance</th></tr></thead>\n",
       "<tbody>\n",
       "\t<tr><td>1  </td><td>8  </td><td>6  </td><td>7.0</td><td> 2 </td></tr>\n",
       "\t<tr><td>2  </td><td>5  </td><td>3  </td><td>4.0</td><td> 2 </td></tr>\n",
       "\t<tr><td>3  </td><td>7  </td><td>2  </td><td>4.5</td><td> 5 </td></tr>\n",
       "\t<tr><td>4  </td><td>8  </td><td>5  </td><td>6.5</td><td> 3 </td></tr>\n",
       "\t<tr><td>5  </td><td>8  </td><td>7  </td><td>7.5</td><td> 1 </td></tr>\n",
       "\t<tr><td>6  </td><td>5  </td><td>6  </td><td>5.5</td><td>-1 </td></tr>\n",
       "</tbody>\n",
       "</table>\n"
      ],
      "text/latex": [
       "\\begin{tabular}{r|lllll}\n",
       " Dyade & p1 & p2 & mean & distance\\\\\n",
       "\\hline\n",
       "\t 1   & 8   & 6   & 7.0 &  2 \\\\\n",
       "\t 2   & 5   & 3   & 4.0 &  2 \\\\\n",
       "\t 3   & 7   & 2   & 4.5 &  5 \\\\\n",
       "\t 4   & 8   & 5   & 6.5 &  3 \\\\\n",
       "\t 5   & 8   & 7   & 7.5 &  1 \\\\\n",
       "\t 6   & 5   & 6   & 5.5 & -1 \\\\\n",
       "\\end{tabular}\n"
      ],
      "text/markdown": [
       "\n",
       "Dyade | p1 | p2 | mean | distance | \n",
       "|---|---|---|---|---|---|\n",
       "| 1   | 8   | 6   | 7.0 |  2  | \n",
       "| 2   | 5   | 3   | 4.0 |  2  | \n",
       "| 3   | 7   | 2   | 4.5 |  5  | \n",
       "| 4   | 8   | 5   | 6.5 |  3  | \n",
       "| 5   | 8   | 7   | 7.5 |  1  | \n",
       "| 6   | 5   | 6   | 5.5 | -1  | \n",
       "\n",
       "\n"
      ],
      "text/plain": [
       "  Dyade p1 p2 mean distance\n",
       "1 1     8  6  7.0   2      \n",
       "2 2     5  3  4.0   2      \n",
       "3 3     7  2  4.5   5      \n",
       "4 4     8  5  6.5   3      \n",
       "5 5     8  7  7.5   1      \n",
       "6 6     5  6  5.5  -1      "
      ]
     },
     "metadata": {},
     "output_type": "display_data"
    }
   ],
   "source": [
    "data"
   ]
  },
  {
   "cell_type": "markdown",
   "metadata": {},
   "source": [
    "### Compute mean of all 2n scores\n"
   ]
  },
  {
   "cell_type": "code",
   "execution_count": 6,
   "metadata": {},
   "outputs": [
    {
     "data": {
      "text/html": [
       "5.83333333333333"
      ],
      "text/latex": [
       "5.83333333333333"
      ],
      "text/markdown": [
       "5.83333333333333"
      ],
      "text/plain": [
       "[1] 5.833333"
      ]
     },
     "metadata": {},
     "output_type": "display_data"
    }
   ],
   "source": [
    "M <- mean(c(data$'p1',data$'p2'), na.rm = TRUE)\n",
    "M"
   ]
  },
  {
   "cell_type": "markdown",
   "metadata": {},
   "source": [
    "### Compute (mean - M)² for each dyad"
   ]
  },
  {
   "cell_type": "code",
   "execution_count": 7,
   "metadata": {},
   "outputs": [],
   "source": [
    "data$\"(mean-M)²\" <- (data$mean - M)^2"
   ]
  },
  {
   "cell_type": "code",
   "execution_count": 8,
   "metadata": {
    "scrolled": true
   },
   "outputs": [
    {
     "data": {
      "text/html": [
       "<table>\n",
       "<thead><tr><th scope=col>Dyade</th><th scope=col>p1</th><th scope=col>p2</th><th scope=col>mean</th><th scope=col>distance</th><th scope=col>(mean-M)²</th></tr></thead>\n",
       "<tbody>\n",
       "\t<tr><td>1        </td><td>8        </td><td>6        </td><td>7.0      </td><td> 2       </td><td>1.3611111</td></tr>\n",
       "\t<tr><td>2        </td><td>5        </td><td>3        </td><td>4.0      </td><td> 2       </td><td>3.3611111</td></tr>\n",
       "\t<tr><td>3        </td><td>7        </td><td>2        </td><td>4.5      </td><td> 5       </td><td>1.7777778</td></tr>\n",
       "\t<tr><td>4        </td><td>8        </td><td>5        </td><td>6.5      </td><td> 3       </td><td>0.4444444</td></tr>\n",
       "\t<tr><td>5        </td><td>8        </td><td>7        </td><td>7.5      </td><td> 1       </td><td>2.7777778</td></tr>\n",
       "\t<tr><td>6        </td><td>5        </td><td>6        </td><td>5.5      </td><td>-1       </td><td>0.1111111</td></tr>\n",
       "</tbody>\n",
       "</table>\n"
      ],
      "text/latex": [
       "\\begin{tabular}{r|llllll}\n",
       " Dyade & p1 & p2 & mean & distance & (mean-M)²\\\\\n",
       "\\hline\n",
       "\t 1         & 8         & 6         & 7.0       &  2        & 1.3611111\\\\\n",
       "\t 2         & 5         & 3         & 4.0       &  2        & 3.3611111\\\\\n",
       "\t 3         & 7         & 2         & 4.5       &  5        & 1.7777778\\\\\n",
       "\t 4         & 8         & 5         & 6.5       &  3        & 0.4444444\\\\\n",
       "\t 5         & 8         & 7         & 7.5       &  1        & 2.7777778\\\\\n",
       "\t 6         & 5         & 6         & 5.5       & -1        & 0.1111111\\\\\n",
       "\\end{tabular}\n"
      ],
      "text/markdown": [
       "\n",
       "Dyade | p1 | p2 | mean | distance | (mean-M)² | \n",
       "|---|---|---|---|---|---|\n",
       "| 1         | 8         | 6         | 7.0       |  2        | 1.3611111 | \n",
       "| 2         | 5         | 3         | 4.0       |  2        | 3.3611111 | \n",
       "| 3         | 7         | 2         | 4.5       |  5        | 1.7777778 | \n",
       "| 4         | 8         | 5         | 6.5       |  3        | 0.4444444 | \n",
       "| 5         | 8         | 7         | 7.5       |  1        | 2.7777778 | \n",
       "| 6         | 5         | 6         | 5.5       | -1        | 0.1111111 | \n",
       "\n",
       "\n"
      ],
      "text/plain": [
       "  Dyade p1 p2 mean distance (mean-M)²\n",
       "1 1     8  6  7.0   2       1.3611111\n",
       "2 2     5  3  4.0   2       3.3611111\n",
       "3 3     7  2  4.5   5       1.7777778\n",
       "4 4     8  5  6.5   3       0.4444444\n",
       "5 5     8  7  7.5   1       2.7777778\n",
       "6 6     5  6  5.5  -1       0.1111111"
      ]
     },
     "metadata": {},
     "output_type": "display_data"
    }
   ],
   "source": [
    "data"
   ]
  },
  {
   "cell_type": "markdown",
   "metadata": {},
   "source": [
    "### Compute distance² for each dyad"
   ]
  },
  {
   "cell_type": "code",
   "execution_count": 9,
   "metadata": {},
   "outputs": [],
   "source": [
    "data$\"distance²\" <- (data$distance)^2"
   ]
  },
  {
   "cell_type": "code",
   "execution_count": 10,
   "metadata": {
    "scrolled": true
   },
   "outputs": [
    {
     "data": {
      "text/html": [
       "<table>\n",
       "<thead><tr><th scope=col>Dyade</th><th scope=col>p1</th><th scope=col>p2</th><th scope=col>mean</th><th scope=col>distance</th><th scope=col>(mean-M)²</th><th scope=col>distance²</th></tr></thead>\n",
       "<tbody>\n",
       "\t<tr><td>1        </td><td>8        </td><td>6        </td><td>7.0      </td><td> 2       </td><td>1.3611111</td><td> 4       </td></tr>\n",
       "\t<tr><td>2        </td><td>5        </td><td>3        </td><td>4.0      </td><td> 2       </td><td>3.3611111</td><td> 4       </td></tr>\n",
       "\t<tr><td>3        </td><td>7        </td><td>2        </td><td>4.5      </td><td> 5       </td><td>1.7777778</td><td>25       </td></tr>\n",
       "\t<tr><td>4        </td><td>8        </td><td>5        </td><td>6.5      </td><td> 3       </td><td>0.4444444</td><td> 9       </td></tr>\n",
       "\t<tr><td>5        </td><td>8        </td><td>7        </td><td>7.5      </td><td> 1       </td><td>2.7777778</td><td> 1       </td></tr>\n",
       "\t<tr><td>6        </td><td>5        </td><td>6        </td><td>5.5      </td><td>-1       </td><td>0.1111111</td><td> 1       </td></tr>\n",
       "</tbody>\n",
       "</table>\n"
      ],
      "text/latex": [
       "\\begin{tabular}{r|lllllll}\n",
       " Dyade & p1 & p2 & mean & distance & (mean-M)² & distance²\\\\\n",
       "\\hline\n",
       "\t 1         & 8         & 6         & 7.0       &  2        & 1.3611111 &  4       \\\\\n",
       "\t 2         & 5         & 3         & 4.0       &  2        & 3.3611111 &  4       \\\\\n",
       "\t 3         & 7         & 2         & 4.5       &  5        & 1.7777778 & 25       \\\\\n",
       "\t 4         & 8         & 5         & 6.5       &  3        & 0.4444444 &  9       \\\\\n",
       "\t 5         & 8         & 7         & 7.5       &  1        & 2.7777778 &  1       \\\\\n",
       "\t 6         & 5         & 6         & 5.5       & -1        & 0.1111111 &  1       \\\\\n",
       "\\end{tabular}\n"
      ],
      "text/markdown": [
       "\n",
       "Dyade | p1 | p2 | mean | distance | (mean-M)² | distance² | \n",
       "|---|---|---|---|---|---|\n",
       "| 1         | 8         | 6         | 7.0       |  2        | 1.3611111 |  4        | \n",
       "| 2         | 5         | 3         | 4.0       |  2        | 3.3611111 |  4        | \n",
       "| 3         | 7         | 2         | 4.5       |  5        | 1.7777778 | 25        | \n",
       "| 4         | 8         | 5         | 6.5       |  3        | 0.4444444 |  9        | \n",
       "| 5         | 8         | 7         | 7.5       |  1        | 2.7777778 |  1        | \n",
       "| 6         | 5         | 6         | 5.5       | -1        | 0.1111111 |  1        | \n",
       "\n",
       "\n"
      ],
      "text/plain": [
       "  Dyade p1 p2 mean distance (mean-M)² distance²\n",
       "1 1     8  6  7.0   2       1.3611111  4       \n",
       "2 2     5  3  4.0   2       3.3611111  4       \n",
       "3 3     7  2  4.5   5       1.7777778 25       \n",
       "4 4     8  5  6.5   3       0.4444444  9       \n",
       "5 5     8  7  7.5   1       2.7777778  1       \n",
       "6 6     5  6  5.5  -1       0.1111111  1       "
      ]
     },
     "metadata": {},
     "output_type": "display_data"
    }
   ],
   "source": [
    "data"
   ]
  },
  {
   "cell_type": "markdown",
   "metadata": {},
   "source": [
    "### Compute sum of (mean - M)²"
   ]
  },
  {
   "cell_type": "code",
   "execution_count": 11,
   "metadata": {},
   "outputs": [],
   "source": [
    "SumMeanSquare2 <- sum(data$\"(mean-M)²\", na.rm = TRUE)"
   ]
  },
  {
   "cell_type": "code",
   "execution_count": 12,
   "metadata": {
    "scrolled": true
   },
   "outputs": [
    {
     "data": {
      "text/html": [
       "9.83333333333333"
      ],
      "text/latex": [
       "9.83333333333333"
      ],
      "text/markdown": [
       "9.83333333333333"
      ],
      "text/plain": [
       "[1] 9.833333"
      ]
     },
     "metadata": {},
     "output_type": "display_data"
    }
   ],
   "source": [
    "SumMeanSquare2"
   ]
  },
  {
   "cell_type": "markdown",
   "metadata": {},
   "source": [
    "### Compute sum of distance²"
   ]
  },
  {
   "cell_type": "code",
   "execution_count": 13,
   "metadata": {},
   "outputs": [],
   "source": [
    "SumDistance2 <- sum(data$\"distance²\", na.rm = TRUE)"
   ]
  },
  {
   "cell_type": "code",
   "execution_count": 14,
   "metadata": {},
   "outputs": [
    {
     "data": {
      "text/html": [
       "44"
      ],
      "text/latex": [
       "44"
      ],
      "text/markdown": [
       "44"
      ],
      "text/plain": [
       "[1] 44"
      ]
     },
     "metadata": {},
     "output_type": "display_data"
    }
   ],
   "source": [
    "SumDistance2"
   ]
  },
  {
   "cell_type": "markdown",
   "metadata": {},
   "source": [
    "### Compute mean square between dyads (MSb)"
   ]
  },
  {
   "cell_type": "code",
   "execution_count": 15,
   "metadata": {},
   "outputs": [],
   "source": [
    "MSb <- (2*SumMeanSquare2) / (length(data$Dyade)-1)"
   ]
  },
  {
   "cell_type": "code",
   "execution_count": 16,
   "metadata": {},
   "outputs": [
    {
     "data": {
      "text/html": [
       "3.93333333333333"
      ],
      "text/latex": [
       "3.93333333333333"
      ],
      "text/markdown": [
       "3.93333333333333"
      ],
      "text/plain": [
       "[1] 3.933333"
      ]
     },
     "metadata": {},
     "output_type": "display_data"
    }
   ],
   "source": [
    "MSb"
   ]
  },
  {
   "cell_type": "markdown",
   "metadata": {},
   "source": [
    "### Compute mean square within dyads (MSw)\n"
   ]
  },
  {
   "cell_type": "code",
   "execution_count": 17,
   "metadata": {},
   "outputs": [
    {
     "data": {
      "text/html": [
       "6"
      ],
      "text/latex": [
       "6"
      ],
      "text/markdown": [
       "6"
      ],
      "text/plain": [
       "[1] 6"
      ]
     },
     "metadata": {},
     "output_type": "display_data"
    }
   ],
   "source": [
    "length(data$mean[!is.na(data$mean)])"
   ]
  },
  {
   "cell_type": "code",
   "execution_count": 18,
   "metadata": {},
   "outputs": [],
   "source": [
    "MSw <- SumDistance2 / (2*length(data$mean))"
   ]
  },
  {
   "cell_type": "code",
   "execution_count": 19,
   "metadata": {
    "scrolled": true
   },
   "outputs": [
    {
     "data": {
      "text/html": [
       "3.66666666666667"
      ],
      "text/latex": [
       "3.66666666666667"
      ],
      "text/markdown": [
       "3.66666666666667"
      ],
      "text/plain": [
       "[1] 3.666667"
      ]
     },
     "metadata": {},
     "output_type": "display_data"
    }
   ],
   "source": [
    "MSw"
   ]
  },
  {
   "cell_type": "markdown",
   "metadata": {},
   "source": [
    "### Compute intraclass correlation (ICC)"
   ]
  },
  {
   "cell_type": "code",
   "execution_count": 20,
   "metadata": {},
   "outputs": [],
   "source": [
    "ICC <- (MSb - MSw) / (MSb + MSw)"
   ]
  },
  {
   "cell_type": "code",
   "execution_count": 21,
   "metadata": {},
   "outputs": [
    {
     "data": {
      "text/html": [
       "0.0350877192982455"
      ],
      "text/latex": [
       "0.0350877192982455"
      ],
      "text/markdown": [
       "0.0350877192982455"
      ],
      "text/plain": [
       "[1] 0.03508772"
      ]
     },
     "metadata": {},
     "output_type": "display_data"
    }
   ],
   "source": [
    "ICC"
   ]
  },
  {
   "cell_type": "markdown",
   "metadata": {},
   "source": [
    "### Compute F value"
   ]
  },
  {
   "cell_type": "code",
   "execution_count": 22,
   "metadata": {},
   "outputs": [],
   "source": [
    "F <- MSb / MSw"
   ]
  },
  {
   "cell_type": "code",
   "execution_count": 23,
   "metadata": {},
   "outputs": [
    {
     "data": {
      "text/html": [
       "1.07272727272727"
      ],
      "text/latex": [
       "1.07272727272727"
      ],
      "text/markdown": [
       "1.07272727272727"
      ],
      "text/plain": [
       "[1] 1.072727"
      ]
     },
     "metadata": {},
     "output_type": "display_data"
    }
   ],
   "source": [
    "F"
   ]
  },
  {
   "cell_type": "markdown",
   "metadata": {},
   "source": [
    "### Compute p value"
   ]
  },
  {
   "cell_type": "code",
   "execution_count": 24,
   "metadata": {},
   "outputs": [
    {
     "data": {
      "text/html": [
       "0.541775047119164"
      ],
      "text/latex": [
       "0.541775047119164"
      ],
      "text/markdown": [
       "0.541775047119164"
      ],
      "text/plain": [
       "[1] 0.541775"
      ]
     },
     "metadata": {},
     "output_type": "display_data"
    }
   ],
   "source": [
    "p <- pf(q=F, df1=length(data$Dyad)-1, df2=length(data$Dyad), lower.tail=TRUE)\n",
    "p"
   ]
  },
  {
   "cell_type": "markdown",
   "metadata": {},
   "source": [
    "<h2><span style=\"color:red\"> if p-value <.05, scores are non-independant </span></h2>"
   ]
  }
 ],
 "metadata": {
  "kernelspec": {
   "display_name": "R",
   "language": "R",
   "name": "ir"
  },
  "language_info": {
   "codemirror_mode": "r",
   "file_extension": ".r",
   "mimetype": "text/x-r-source",
   "name": "R",
   "pygments_lexer": "r",
   "version": "3.4.4"
  }
 },
 "nbformat": 4,
 "nbformat_minor": 2
}
