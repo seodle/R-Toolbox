{
 "cells": [
  {
   "cell_type": "markdown",
   "metadata": {},
   "source": [
    "# Compute intraclass correlation\n",
    "\n",
    "This script require R\n",
    "\n",
    "\n",
    "\n",
    "Requirements\n",
    "--\n",
    "\n",
    "You need the free software R  : go to [R download page](https://cran.r-project.org/)\n",
    "\n",
    "Your data file need to be in a dyadic structure : go to [this page](https://www.seodle.info/toolbox/python_indivdual_to_dyadic_structure.html) to see how restructure your table in python."
   ]
  },
  {
   "cell_type": "markdown",
   "metadata": {},
   "source": [
    "# Code\n"
   ]
  },
  {
   "cell_type": "markdown",
   "metadata": {},
   "source": [
    "### Read .CSV file\n"
   ]
  },
  {
   "cell_type": "code",
   "execution_count": 174,
   "metadata": {},
   "outputs": [
    {
     "data": {
      "text/html": [
       "<table>\n",
       "<thead><tr><th scope=col>Dyade</th><th scope=col>p1</th><th scope=col>p2</th></tr></thead>\n",
       "<tbody>\n",
       "\t<tr><td>1</td><td>8</td><td>6</td></tr>\n",
       "\t<tr><td>2</td><td>5</td><td>3</td></tr>\n",
       "\t<tr><td>3</td><td>7</td><td>2</td></tr>\n",
       "\t<tr><td>4</td><td>8</td><td>5</td></tr>\n",
       "\t<tr><td>5</td><td>8</td><td>7</td></tr>\n",
       "\t<tr><td>6</td><td>5</td><td>6</td></tr>\n",
       "</tbody>\n",
       "</table>\n"
      ],
      "text/latex": [
       "\\begin{tabular}{r|lll}\n",
       " Dyade & p1 & p2\\\\\n",
       "\\hline\n",
       "\t 1 & 8 & 6\\\\\n",
       "\t 2 & 5 & 3\\\\\n",
       "\t 3 & 7 & 2\\\\\n",
       "\t 4 & 8 & 5\\\\\n",
       "\t 5 & 8 & 7\\\\\n",
       "\t 6 & 5 & 6\\\\\n",
       "\\end{tabular}\n"
      ],
      "text/markdown": [
       "\n",
       "Dyade | p1 | p2 | \n",
       "|---|---|---|---|---|---|\n",
       "| 1 | 8 | 6 | \n",
       "| 2 | 5 | 3 | \n",
       "| 3 | 7 | 2 | \n",
       "| 4 | 8 | 5 | \n",
       "| 5 | 8 | 7 | \n",
       "| 6 | 5 | 6 | \n",
       "\n",
       "\n"
      ],
      "text/plain": [
       "  Dyade p1 p2\n",
       "1 1     8  6 \n",
       "2 2     5  3 \n",
       "3 3     7  2 \n",
       "4 4     8  5 \n",
       "5 5     8  7 \n",
       "6 6     5  6 "
      ]
     },
     "metadata": {},
     "output_type": "display_data"
    }
   ],
   "source": [
    "data <- read.csv(\"input.csv\", sep = \";\")\n",
    "head(data)"
   ]
  },
  {
   "cell_type": "markdown",
   "metadata": {},
   "source": [
    "### Create new column with mean scores of the two participants"
   ]
  },
  {
   "cell_type": "code",
   "execution_count": 175,
   "metadata": {
    "scrolled": true
   },
   "outputs": [
    {
     "data": {
      "text/html": [
       "<table>\n",
       "<thead><tr><th scope=col>Dyade</th><th scope=col>p1</th><th scope=col>p2</th><th scope=col>mean</th></tr></thead>\n",
       "<tbody>\n",
       "\t<tr><td>1  </td><td>8  </td><td>6  </td><td>7.0</td></tr>\n",
       "\t<tr><td>2  </td><td>5  </td><td>3  </td><td>4.0</td></tr>\n",
       "\t<tr><td>3  </td><td>7  </td><td>2  </td><td>4.5</td></tr>\n",
       "\t<tr><td>4  </td><td>8  </td><td>5  </td><td>6.5</td></tr>\n",
       "\t<tr><td>5  </td><td>8  </td><td>7  </td><td>7.5</td></tr>\n",
       "\t<tr><td>6  </td><td>5  </td><td>6  </td><td>5.5</td></tr>\n",
       "</tbody>\n",
       "</table>\n"
      ],
      "text/latex": [
       "\\begin{tabular}{r|llll}\n",
       " Dyade & p1 & p2 & mean\\\\\n",
       "\\hline\n",
       "\t 1   & 8   & 6   & 7.0\\\\\n",
       "\t 2   & 5   & 3   & 4.0\\\\\n",
       "\t 3   & 7   & 2   & 4.5\\\\\n",
       "\t 4   & 8   & 5   & 6.5\\\\\n",
       "\t 5   & 8   & 7   & 7.5\\\\\n",
       "\t 6   & 5   & 6   & 5.5\\\\\n",
       "\\end{tabular}\n"
      ],
      "text/markdown": [
       "\n",
       "Dyade | p1 | p2 | mean | \n",
       "|---|---|---|---|---|---|\n",
       "| 1   | 8   | 6   | 7.0 | \n",
       "| 2   | 5   | 3   | 4.0 | \n",
       "| 3   | 7   | 2   | 4.5 | \n",
       "| 4   | 8   | 5   | 6.5 | \n",
       "| 5   | 8   | 7   | 7.5 | \n",
       "| 6   | 5   | 6   | 5.5 | \n",
       "\n",
       "\n"
      ],
      "text/plain": [
       "  Dyade p1 p2 mean\n",
       "1 1     8  6  7.0 \n",
       "2 2     5  3  4.0 \n",
       "3 3     7  2  4.5 \n",
       "4 4     8  5  6.5 \n",
       "5 5     8  7  7.5 \n",
       "6 6     5  6  5.5 "
      ]
     },
     "metadata": {},
     "output_type": "display_data"
    }
   ],
   "source": [
    "data$mean <- (data$'p1'+data$'p2')/2\n",
    "head(data)"
   ]
  },
  {
   "cell_type": "markdown",
   "metadata": {},
   "source": [
    "### Create new column with distances between the two participants"
   ]
  },
  {
   "cell_type": "code",
   "execution_count": 176,
   "metadata": {},
   "outputs": [],
   "source": [
    "data$distance <- data$'p1'-data$'p2'"
   ]
  },
  {
   "cell_type": "code",
   "execution_count": 177,
   "metadata": {
    "scrolled": true
   },
   "outputs": [
    {
     "data": {
      "text/html": [
       "<table>\n",
       "<thead><tr><th scope=col>Dyade</th><th scope=col>p1</th><th scope=col>p2</th><th scope=col>mean</th><th scope=col>distance</th></tr></thead>\n",
       "<tbody>\n",
       "\t<tr><td> 1 </td><td>8  </td><td>6  </td><td>7.0</td><td> 2 </td></tr>\n",
       "\t<tr><td> 2 </td><td>5  </td><td>3  </td><td>4.0</td><td> 2 </td></tr>\n",
       "\t<tr><td> 3 </td><td>7  </td><td>2  </td><td>4.5</td><td> 5 </td></tr>\n",
       "\t<tr><td> 4 </td><td>8  </td><td>5  </td><td>6.5</td><td> 3 </td></tr>\n",
       "\t<tr><td> 5 </td><td>8  </td><td>7  </td><td>7.5</td><td> 1 </td></tr>\n",
       "\t<tr><td> 6 </td><td>5  </td><td>6  </td><td>5.5</td><td>-1 </td></tr>\n",
       "\t<tr><td> 7 </td><td>3  </td><td>4  </td><td>3.5</td><td>-1 </td></tr>\n",
       "\t<tr><td> 8 </td><td>8  </td><td>9  </td><td>8.5</td><td>-1 </td></tr>\n",
       "\t<tr><td> 9 </td><td>6  </td><td>7  </td><td>6.5</td><td>-1 </td></tr>\n",
       "\t<tr><td>10 </td><td>2  </td><td>3  </td><td>2.5</td><td>-1 </td></tr>\n",
       "</tbody>\n",
       "</table>\n"
      ],
      "text/latex": [
       "\\begin{tabular}{r|lllll}\n",
       " Dyade & p1 & p2 & mean & distance\\\\\n",
       "\\hline\n",
       "\t  1  & 8   & 6   & 7.0 &  2 \\\\\n",
       "\t  2  & 5   & 3   & 4.0 &  2 \\\\\n",
       "\t  3  & 7   & 2   & 4.5 &  5 \\\\\n",
       "\t  4  & 8   & 5   & 6.5 &  3 \\\\\n",
       "\t  5  & 8   & 7   & 7.5 &  1 \\\\\n",
       "\t  6  & 5   & 6   & 5.5 & -1 \\\\\n",
       "\t  7  & 3   & 4   & 3.5 & -1 \\\\\n",
       "\t  8  & 8   & 9   & 8.5 & -1 \\\\\n",
       "\t  9  & 6   & 7   & 6.5 & -1 \\\\\n",
       "\t 10  & 2   & 3   & 2.5 & -1 \\\\\n",
       "\\end{tabular}\n"
      ],
      "text/markdown": [
       "\n",
       "Dyade | p1 | p2 | mean | distance | \n",
       "|---|---|---|---|---|---|---|---|---|---|\n",
       "|  1  | 8   | 6   | 7.0 |  2  | \n",
       "|  2  | 5   | 3   | 4.0 |  2  | \n",
       "|  3  | 7   | 2   | 4.5 |  5  | \n",
       "|  4  | 8   | 5   | 6.5 |  3  | \n",
       "|  5  | 8   | 7   | 7.5 |  1  | \n",
       "|  6  | 5   | 6   | 5.5 | -1  | \n",
       "|  7  | 3   | 4   | 3.5 | -1  | \n",
       "|  8  | 8   | 9   | 8.5 | -1  | \n",
       "|  9  | 6   | 7   | 6.5 | -1  | \n",
       "| 10  | 2   | 3   | 2.5 | -1  | \n",
       "\n",
       "\n"
      ],
      "text/plain": [
       "   Dyade p1 p2 mean distance\n",
       "1   1    8  6  7.0   2      \n",
       "2   2    5  3  4.0   2      \n",
       "3   3    7  2  4.5   5      \n",
       "4   4    8  5  6.5   3      \n",
       "5   5    8  7  7.5   1      \n",
       "6   6    5  6  5.5  -1      \n",
       "7   7    3  4  3.5  -1      \n",
       "8   8    8  9  8.5  -1      \n",
       "9   9    6  7  6.5  -1      \n",
       "10 10    2  3  2.5  -1      "
      ]
     },
     "metadata": {},
     "output_type": "display_data"
    }
   ],
   "source": [
    "data"
   ]
  },
  {
   "cell_type": "markdown",
   "metadata": {},
   "source": [
    "### Compute mean of all 2n scores\n"
   ]
  },
  {
   "cell_type": "code",
   "execution_count": 178,
   "metadata": {},
   "outputs": [
    {
     "data": {
      "text/html": [
       "5.6"
      ],
      "text/latex": [
       "5.6"
      ],
      "text/markdown": [
       "5.6"
      ],
      "text/plain": [
       "[1] 5.6"
      ]
     },
     "metadata": {},
     "output_type": "display_data"
    }
   ],
   "source": [
    "M <- mean(c(data$'p1',data$'p2'), na.rm = TRUE)\n",
    "M"
   ]
  },
  {
   "cell_type": "markdown",
   "metadata": {},
   "source": [
    "### Compute (mean - M)² for each dyad"
   ]
  },
  {
   "cell_type": "code",
   "execution_count": 179,
   "metadata": {},
   "outputs": [],
   "source": [
    "data$\"(mean-M)²\" <- (data$mean - M)^2"
   ]
  },
  {
   "cell_type": "code",
   "execution_count": 180,
   "metadata": {
    "scrolled": true
   },
   "outputs": [
    {
     "data": {
      "text/html": [
       "<table>\n",
       "<thead><tr><th scope=col>Dyade</th><th scope=col>p1</th><th scope=col>p2</th><th scope=col>mean</th><th scope=col>distance</th><th scope=col>(mean-M)²</th></tr></thead>\n",
       "<tbody>\n",
       "\t<tr><td> 1  </td><td>8   </td><td>6   </td><td>7.0 </td><td> 2  </td><td>1.96</td></tr>\n",
       "\t<tr><td> 2  </td><td>5   </td><td>3   </td><td>4.0 </td><td> 2  </td><td>2.56</td></tr>\n",
       "\t<tr><td> 3  </td><td>7   </td><td>2   </td><td>4.5 </td><td> 5  </td><td>1.21</td></tr>\n",
       "\t<tr><td> 4  </td><td>8   </td><td>5   </td><td>6.5 </td><td> 3  </td><td>0.81</td></tr>\n",
       "\t<tr><td> 5  </td><td>8   </td><td>7   </td><td>7.5 </td><td> 1  </td><td>3.61</td></tr>\n",
       "\t<tr><td> 6  </td><td>5   </td><td>6   </td><td>5.5 </td><td>-1  </td><td>0.01</td></tr>\n",
       "\t<tr><td> 7  </td><td>3   </td><td>4   </td><td>3.5 </td><td>-1  </td><td>4.41</td></tr>\n",
       "\t<tr><td> 8  </td><td>8   </td><td>9   </td><td>8.5 </td><td>-1  </td><td>8.41</td></tr>\n",
       "\t<tr><td> 9  </td><td>6   </td><td>7   </td><td>6.5 </td><td>-1  </td><td>0.81</td></tr>\n",
       "\t<tr><td>10  </td><td>2   </td><td>3   </td><td>2.5 </td><td>-1  </td><td>9.61</td></tr>\n",
       "</tbody>\n",
       "</table>\n"
      ],
      "text/latex": [
       "\\begin{tabular}{r|llllll}\n",
       " Dyade & p1 & p2 & mean & distance & (mean-M)²\\\\\n",
       "\\hline\n",
       "\t  1   & 8    & 6    & 7.0  &  2   & 1.96\\\\\n",
       "\t  2   & 5    & 3    & 4.0  &  2   & 2.56\\\\\n",
       "\t  3   & 7    & 2    & 4.5  &  5   & 1.21\\\\\n",
       "\t  4   & 8    & 5    & 6.5  &  3   & 0.81\\\\\n",
       "\t  5   & 8    & 7    & 7.5  &  1   & 3.61\\\\\n",
       "\t  6   & 5    & 6    & 5.5  & -1   & 0.01\\\\\n",
       "\t  7   & 3    & 4    & 3.5  & -1   & 4.41\\\\\n",
       "\t  8   & 8    & 9    & 8.5  & -1   & 8.41\\\\\n",
       "\t  9   & 6    & 7    & 6.5  & -1   & 0.81\\\\\n",
       "\t 10   & 2    & 3    & 2.5  & -1   & 9.61\\\\\n",
       "\\end{tabular}\n"
      ],
      "text/markdown": [
       "\n",
       "Dyade | p1 | p2 | mean | distance | (mean-M)² | \n",
       "|---|---|---|---|---|---|---|---|---|---|\n",
       "|  1   | 8    | 6    | 7.0  |  2   | 1.96 | \n",
       "|  2   | 5    | 3    | 4.0  |  2   | 2.56 | \n",
       "|  3   | 7    | 2    | 4.5  |  5   | 1.21 | \n",
       "|  4   | 8    | 5    | 6.5  |  3   | 0.81 | \n",
       "|  5   | 8    | 7    | 7.5  |  1   | 3.61 | \n",
       "|  6   | 5    | 6    | 5.5  | -1   | 0.01 | \n",
       "|  7   | 3    | 4    | 3.5  | -1   | 4.41 | \n",
       "|  8   | 8    | 9    | 8.5  | -1   | 8.41 | \n",
       "|  9   | 6    | 7    | 6.5  | -1   | 0.81 | \n",
       "| 10   | 2    | 3    | 2.5  | -1   | 9.61 | \n",
       "\n",
       "\n"
      ],
      "text/plain": [
       "   Dyade p1 p2 mean distance (mean-M)²\n",
       "1   1    8  6  7.0   2       1.96     \n",
       "2   2    5  3  4.0   2       2.56     \n",
       "3   3    7  2  4.5   5       1.21     \n",
       "4   4    8  5  6.5   3       0.81     \n",
       "5   5    8  7  7.5   1       3.61     \n",
       "6   6    5  6  5.5  -1       0.01     \n",
       "7   7    3  4  3.5  -1       4.41     \n",
       "8   8    8  9  8.5  -1       8.41     \n",
       "9   9    6  7  6.5  -1       0.81     \n",
       "10 10    2  3  2.5  -1       9.61     "
      ]
     },
     "metadata": {},
     "output_type": "display_data"
    }
   ],
   "source": [
    "data"
   ]
  },
  {
   "cell_type": "markdown",
   "metadata": {},
   "source": [
    "### Compute distance² for each dyad"
   ]
  },
  {
   "cell_type": "code",
   "execution_count": 181,
   "metadata": {},
   "outputs": [],
   "source": [
    "data$\"distance²\" <- (data$distance)^2"
   ]
  },
  {
   "cell_type": "code",
   "execution_count": 182,
   "metadata": {
    "scrolled": true
   },
   "outputs": [
    {
     "data": {
      "text/html": [
       "<table>\n",
       "<thead><tr><th scope=col>Dyade</th><th scope=col>p1</th><th scope=col>p2</th><th scope=col>mean</th><th scope=col>distance</th><th scope=col>(mean-M)²</th><th scope=col>distance²</th></tr></thead>\n",
       "<tbody>\n",
       "\t<tr><td> 1  </td><td>8   </td><td>6   </td><td>7.0 </td><td> 2  </td><td>1.96</td><td> 4  </td></tr>\n",
       "\t<tr><td> 2  </td><td>5   </td><td>3   </td><td>4.0 </td><td> 2  </td><td>2.56</td><td> 4  </td></tr>\n",
       "\t<tr><td> 3  </td><td>7   </td><td>2   </td><td>4.5 </td><td> 5  </td><td>1.21</td><td>25  </td></tr>\n",
       "\t<tr><td> 4  </td><td>8   </td><td>5   </td><td>6.5 </td><td> 3  </td><td>0.81</td><td> 9  </td></tr>\n",
       "\t<tr><td> 5  </td><td>8   </td><td>7   </td><td>7.5 </td><td> 1  </td><td>3.61</td><td> 1  </td></tr>\n",
       "\t<tr><td> 6  </td><td>5   </td><td>6   </td><td>5.5 </td><td>-1  </td><td>0.01</td><td> 1  </td></tr>\n",
       "\t<tr><td> 7  </td><td>3   </td><td>4   </td><td>3.5 </td><td>-1  </td><td>4.41</td><td> 1  </td></tr>\n",
       "\t<tr><td> 8  </td><td>8   </td><td>9   </td><td>8.5 </td><td>-1  </td><td>8.41</td><td> 1  </td></tr>\n",
       "\t<tr><td> 9  </td><td>6   </td><td>7   </td><td>6.5 </td><td>-1  </td><td>0.81</td><td> 1  </td></tr>\n",
       "\t<tr><td>10  </td><td>2   </td><td>3   </td><td>2.5 </td><td>-1  </td><td>9.61</td><td> 1  </td></tr>\n",
       "</tbody>\n",
       "</table>\n"
      ],
      "text/latex": [
       "\\begin{tabular}{r|lllllll}\n",
       " Dyade & p1 & p2 & mean & distance & (mean-M)² & distance²\\\\\n",
       "\\hline\n",
       "\t  1   & 8    & 6    & 7.0  &  2   & 1.96 &  4  \\\\\n",
       "\t  2   & 5    & 3    & 4.0  &  2   & 2.56 &  4  \\\\\n",
       "\t  3   & 7    & 2    & 4.5  &  5   & 1.21 & 25  \\\\\n",
       "\t  4   & 8    & 5    & 6.5  &  3   & 0.81 &  9  \\\\\n",
       "\t  5   & 8    & 7    & 7.5  &  1   & 3.61 &  1  \\\\\n",
       "\t  6   & 5    & 6    & 5.5  & -1   & 0.01 &  1  \\\\\n",
       "\t  7   & 3    & 4    & 3.5  & -1   & 4.41 &  1  \\\\\n",
       "\t  8   & 8    & 9    & 8.5  & -1   & 8.41 &  1  \\\\\n",
       "\t  9   & 6    & 7    & 6.5  & -1   & 0.81 &  1  \\\\\n",
       "\t 10   & 2    & 3    & 2.5  & -1   & 9.61 &  1  \\\\\n",
       "\\end{tabular}\n"
      ],
      "text/markdown": [
       "\n",
       "Dyade | p1 | p2 | mean | distance | (mean-M)² | distance² | \n",
       "|---|---|---|---|---|---|---|---|---|---|\n",
       "|  1   | 8    | 6    | 7.0  |  2   | 1.96 |  4   | \n",
       "|  2   | 5    | 3    | 4.0  |  2   | 2.56 |  4   | \n",
       "|  3   | 7    | 2    | 4.5  |  5   | 1.21 | 25   | \n",
       "|  4   | 8    | 5    | 6.5  |  3   | 0.81 |  9   | \n",
       "|  5   | 8    | 7    | 7.5  |  1   | 3.61 |  1   | \n",
       "|  6   | 5    | 6    | 5.5  | -1   | 0.01 |  1   | \n",
       "|  7   | 3    | 4    | 3.5  | -1   | 4.41 |  1   | \n",
       "|  8   | 8    | 9    | 8.5  | -1   | 8.41 |  1   | \n",
       "|  9   | 6    | 7    | 6.5  | -1   | 0.81 |  1   | \n",
       "| 10   | 2    | 3    | 2.5  | -1   | 9.61 |  1   | \n",
       "\n",
       "\n"
      ],
      "text/plain": [
       "   Dyade p1 p2 mean distance (mean-M)² distance²\n",
       "1   1    8  6  7.0   2       1.96       4       \n",
       "2   2    5  3  4.0   2       2.56       4       \n",
       "3   3    7  2  4.5   5       1.21      25       \n",
       "4   4    8  5  6.5   3       0.81       9       \n",
       "5   5    8  7  7.5   1       3.61       1       \n",
       "6   6    5  6  5.5  -1       0.01       1       \n",
       "7   7    3  4  3.5  -1       4.41       1       \n",
       "8   8    8  9  8.5  -1       8.41       1       \n",
       "9   9    6  7  6.5  -1       0.81       1       \n",
       "10 10    2  3  2.5  -1       9.61       1       "
      ]
     },
     "metadata": {},
     "output_type": "display_data"
    }
   ],
   "source": [
    "data"
   ]
  },
  {
   "cell_type": "markdown",
   "metadata": {},
   "source": [
    "### Compute sum of (mean - M)²"
   ]
  },
  {
   "cell_type": "code",
   "execution_count": 183,
   "metadata": {},
   "outputs": [],
   "source": [
    "SumMeanSquare2 <- sum(data$\"(mean-M)²\", na.rm = TRUE)"
   ]
  },
  {
   "cell_type": "code",
   "execution_count": 184,
   "metadata": {
    "scrolled": true
   },
   "outputs": [
    {
     "data": {
      "text/html": [
       "33.4"
      ],
      "text/latex": [
       "33.4"
      ],
      "text/markdown": [
       "33.4"
      ],
      "text/plain": [
       "[1] 33.4"
      ]
     },
     "metadata": {},
     "output_type": "display_data"
    }
   ],
   "source": [
    "SumMeanSquare2"
   ]
  },
  {
   "cell_type": "markdown",
   "metadata": {},
   "source": [
    "### Compute sum of distance²"
   ]
  },
  {
   "cell_type": "code",
   "execution_count": 185,
   "metadata": {},
   "outputs": [],
   "source": [
    "SumDistance2 <- sum(data$\"distance²\", na.rm = TRUE)"
   ]
  },
  {
   "cell_type": "code",
   "execution_count": 186,
   "metadata": {},
   "outputs": [
    {
     "data": {
      "text/html": [
       "48"
      ],
      "text/latex": [
       "48"
      ],
      "text/markdown": [
       "48"
      ],
      "text/plain": [
       "[1] 48"
      ]
     },
     "metadata": {},
     "output_type": "display_data"
    }
   ],
   "source": [
    "SumDistance2"
   ]
  },
  {
   "cell_type": "markdown",
   "metadata": {},
   "source": [
    "### Compute mean square between dyads (MSb)"
   ]
  },
  {
   "cell_type": "code",
   "execution_count": 187,
   "metadata": {},
   "outputs": [],
   "source": [
    "MSb <- (2*SumMeanSquare2) / (length(data$Dyade)-1)"
   ]
  },
  {
   "cell_type": "code",
   "execution_count": 188,
   "metadata": {},
   "outputs": [
    {
     "data": {
      "text/html": [
       "7.42222222222222"
      ],
      "text/latex": [
       "7.42222222222222"
      ],
      "text/markdown": [
       "7.42222222222222"
      ],
      "text/plain": [
       "[1] 7.422222"
      ]
     },
     "metadata": {},
     "output_type": "display_data"
    }
   ],
   "source": [
    "MSb"
   ]
  },
  {
   "cell_type": "markdown",
   "metadata": {},
   "source": [
    "### Compute mean square within dyads (MSw)\n"
   ]
  },
  {
   "cell_type": "code",
   "execution_count": 189,
   "metadata": {},
   "outputs": [
    {
     "data": {
      "text/html": [
       "10"
      ],
      "text/latex": [
       "10"
      ],
      "text/markdown": [
       "10"
      ],
      "text/plain": [
       "[1] 10"
      ]
     },
     "metadata": {},
     "output_type": "display_data"
    }
   ],
   "source": [
    "length(data$mean[!is.na(data$mean)])"
   ]
  },
  {
   "cell_type": "code",
   "execution_count": 190,
   "metadata": {},
   "outputs": [],
   "source": [
    "MSw <- SumDistance2 / (2*length(data$mean))"
   ]
  },
  {
   "cell_type": "code",
   "execution_count": 191,
   "metadata": {
    "scrolled": true
   },
   "outputs": [
    {
     "data": {
      "text/html": [
       "2.4"
      ],
      "text/latex": [
       "2.4"
      ],
      "text/markdown": [
       "2.4"
      ],
      "text/plain": [
       "[1] 2.4"
      ]
     },
     "metadata": {},
     "output_type": "display_data"
    }
   ],
   "source": [
    "MSw"
   ]
  },
  {
   "cell_type": "markdown",
   "metadata": {},
   "source": [
    "### Compute intraclass correlation (ICC)"
   ]
  },
  {
   "cell_type": "code",
   "execution_count": 192,
   "metadata": {},
   "outputs": [],
   "source": [
    "ICC <- (MSb - MSw) / (MSb + MSw)"
   ]
  },
  {
   "cell_type": "code",
   "execution_count": 193,
   "metadata": {},
   "outputs": [
    {
     "data": {
      "text/html": [
       "0.51131221719457"
      ],
      "text/latex": [
       "0.51131221719457"
      ],
      "text/markdown": [
       "0.51131221719457"
      ],
      "text/plain": [
       "[1] 0.5113122"
      ]
     },
     "metadata": {},
     "output_type": "display_data"
    }
   ],
   "source": [
    "ICC"
   ]
  },
  {
   "cell_type": "markdown",
   "metadata": {},
   "source": [
    "### Compute F value"
   ]
  },
  {
   "cell_type": "code",
   "execution_count": 194,
   "metadata": {},
   "outputs": [],
   "source": [
    "F <- MSb / MSw"
   ]
  },
  {
   "cell_type": "code",
   "execution_count": 195,
   "metadata": {},
   "outputs": [
    {
     "data": {
      "text/html": [
       "3.09259259259259"
      ],
      "text/latex": [
       "3.09259259259259"
      ],
      "text/markdown": [
       "3.09259259259259"
      ],
      "text/plain": [
       "[1] 3.092593"
      ]
     },
     "metadata": {},
     "output_type": "display_data"
    }
   ],
   "source": [
    "F"
   ]
  },
  {
   "cell_type": "markdown",
   "metadata": {},
   "source": [
    "### Compute p value"
   ]
  },
  {
   "cell_type": "code",
   "execution_count": 196,
   "metadata": {},
   "outputs": [
    {
     "data": {
      "text/html": [
       "0.953370086082719"
      ],
      "text/latex": [
       "0.953370086082719"
      ],
      "text/markdown": [
       "0.953370086082719"
      ],
      "text/plain": [
       "[1] 0.9533701"
      ]
     },
     "metadata": {},
     "output_type": "display_data"
    }
   ],
   "source": [
    "p <- pf(q=F, df1=length(data$Dyad)-1, df2=length(data$Dyad), lower.tail=TRUE)\n",
    "p"
   ]
  },
  {
   "cell_type": "markdown",
   "metadata": {},
   "source": [
    "<h2><span style=\"color:red\"> if p-value <.05, scores are non-independant </span></h2>"
   ]
  }
 ],
 "metadata": {
  "kernelspec": {
   "display_name": "R",
   "language": "R",
   "name": "ir"
  },
  "language_info": {
   "codemirror_mode": "r",
   "file_extension": ".r",
   "mimetype": "text/x-r-source",
   "name": "R",
   "pygments_lexer": "r",
   "version": "3.4.4"
  }
 },
 "nbformat": 4,
 "nbformat_minor": 2
}
